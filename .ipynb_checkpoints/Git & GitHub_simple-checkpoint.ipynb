{
 "cells": [
  {
   "cell_type": "markdown",
   "id": "7113dac3",
   "metadata": {},
   "source": [
    "# Introduction to Git \n"
   ]
  },
  {
   "cell_type": "code",
   "execution_count": 3,
   "id": "c4a9534a",
   "metadata": {},
   "outputs": [],
   "source": [
    "from IPython.display import Image\n",
    "from IPython.core.display import HTML "
   ]
  },
  {
   "cell_type": "markdown",
   "id": "c5da8e83",
   "metadata": {},
   "source": [
    "<b>Git</b> is a version control system that allows you to track changes in your code over time.\n",
    "* it helps us keep track code changes\n",
    "* the authors of the changes\n",
    "* it also helps us collaborate on code\n",
    "\n",
    "Git is currently by far the most popular software repository. It is primarily used for\n",
    "software development, but you can version all kinds of data with it."
   ]
  },
  {
   "cell_type": "markdown",
   "id": "0b9513c4",
   "metadata": {},
   "source": [
    "## What does Git do?\n",
    "\n",
    "* it allows us to manage projects with <b> Repositories </b>\n",
    "* it allows us to <b> clone </b> a project to work on a local copy\n",
    "* it allows us to track changes through <b> staging </b> and <b> commiting </b>\n",
    "* <b> branch </b> and <b> merge </b> to allow for wotk on different parts and versions of the project\n",
    "* <b> pull </b> the latest version of the project to a local (on your pc) copy\n",
    "* <b> push </b> local updates to the main project"
   ]
  },
  {
   "cell_type": "code",
   "execution_count": 3,
   "id": "228144dd",
   "metadata": {},
   "outputs": [
    {
     "data": {
      "text/html": [
       "<img src=\"img/git1.png\" width=\"400\" height=\"1200\"/>"
      ],
      "text/plain": [
       "<IPython.core.display.Image object>"
      ]
     },
     "execution_count": 3,
     "metadata": {},
     "output_type": "execute_result"
    }
   ],
   "source": [
    "Image(url= \"img/git1.png\", width=400, height=1200)"
   ]
  },
  {
   "cell_type": "markdown",
   "id": "664e1a66",
   "metadata": {},
   "source": [
    "## Version control"
   ]
  },
  {
   "cell_type": "markdown",
   "id": "4d201c10",
   "metadata": {},
   "source": [
    "When more than one person (or even just a single person) works on some program\n",
    "program (or data in the broadest sense), there is a danger of quickly creating a chaos of versions.\n",
    "\n",
    "Version management programs (code repositories), such as Git, attempt to\n",
    "solve this problem\n",
    "- by storing the individual versions, documenting them and making them retrievable\n",
    "- try to make changes visible and automatically merge them if necessary"
   ]
  },
  {
   "cell_type": "code",
   "execution_count": 4,
   "id": "94e021b5",
   "metadata": {},
   "outputs": [
    {
     "data": {
      "text/html": [
       "<img src=\"img/git2.png\" width=\"400\" height=\"1200\"/>"
      ],
      "text/plain": [
       "<IPython.core.display.Image object>"
      ]
     },
     "execution_count": 4,
     "metadata": {},
     "output_type": "execute_result"
    }
   ],
   "source": [
    "Image(url= \"img/git2.png\", width=400, height=1200)"
   ]
  },
  {
   "cell_type": "markdown",
   "id": "5b880c88",
   "metadata": {},
   "source": [
    "## Basic Git commands"
   ]
  },
  {
   "cell_type": "markdown",
   "id": "98a955e4",
   "metadata": {},
   "source": [
    "| Command   | Purpose    |\n",
    "|-------------:|:-----------|\n",
    "| ``` git init ``` | initializes a new Git repository in the current directory|\n",
    "| ``` git add <file> ```  | adds a file to the staging area | \n",
    "| ``` git commit -m \"<message>\": ``` | commits the changes in the staging area with a message describing the changes | \n",
    "| ``` git status ``` | shows the current status of the repository | \n",
    "| ``` git log ``` | shows the commit history of the repository | \n",
    "| ``` git <command> help ``` | gives help on specific options for commands | \n"
   ]
  },
  {
   "cell_type": "markdown",
   "id": "90832f91",
   "metadata": {},
   "source": [
    "### Let's get started"
   ]
  },
  {
   "cell_type": "markdown",
   "id": "f54c615d",
   "metadata": {},
   "source": [
    "To start using Git, we are first going to open up our Command shell.\n",
    "\n",
    "For Windows, you can use Git bash, which comes included in Git for Windows. For Mac and Linux you can use the built-in terminal.\n",
    "\n",
    "The first thing we need to do, is to check if Git is properly installed:\n",
    "\n"
   ]
  },
  {
   "cell_type": "code",
   "execution_count": 29,
   "id": "28d703e2",
   "metadata": {},
   "outputs": [
    {
     "data": {
      "text/html": [
       "<img src=\"img/git3.png\"/>"
      ],
      "text/plain": [
       "<IPython.core.display.Image object>"
      ]
     },
     "execution_count": 29,
     "metadata": {},
     "output_type": "execute_result"
    }
   ],
   "source": [
    "Image(url= \"img/git3.png\")"
   ]
  },
  {
   "cell_type": "markdown",
   "id": "14095b7b",
   "metadata": {},
   "source": [
    "If Git is installed, it should show something like git version X.Y\n",
    "\n"
   ]
  },
  {
   "cell_type": "markdown",
   "id": "c7a73478",
   "metadata": {},
   "source": [
    "Now let Git know who you are. This is important for version control systems, as each Git commit uses this information:\n",
    "\n"
   ]
  },
  {
   "cell_type": "markdown",
   "id": "f513f74e",
   "metadata": {},
   "source": [
    "```\n",
    "$ git config --global user.name \"lucijakrusic\"\n",
    "\n",
    "$ git config --global user.email \"lucija.krusic1@gmail.com\"\n",
    "\n",
    "```"
   ]
  },
  {
   "cell_type": "markdown",
   "id": "86c0f284",
   "metadata": {},
   "source": [
    "We can also use:\n",
    "    \n",
    "```\n",
    "$ git config --list\n",
    "```\n",
    "    \n",
    "to list out all the configuration settings available. Exit by pressing ```q```."
   ]
  },
  {
   "cell_type": "markdown",
   "id": "776fb8e2",
   "metadata": {},
   "source": [
    "We can e.g. set up a text editor to configure git. To do that use:\n",
    " ``` \n",
    " $ git config --global core.editor (editor_path)\n",
    " ```\n",
    " \n",
    " such as\n",
    " \n",
    " ```\n",
    " $ git config --global core.editor C:\\WINDOWS\\system32\\notepad.exe\n",
    " ```"
   ]
  },
  {
   "cell_type": "markdown",
   "id": "a3c627d5",
   "metadata": {},
   "source": [
    "## Git status"
   ]
  },
  {
   "cell_type": "markdown",
   "id": "7ee1918a",
   "metadata": {},
   "source": [
    "\n",
    "We can test the status of the repo by using:\n",
    "\n",
    "```\n",
    "$ git status\n",
    "\n",
    "```\n",
    "\n",
    "This gives us information on the git repository, such as branch, and things we didn't \"save\" yet:\n"
   ]
  },
  {
   "cell_type": "code",
   "execution_count": 30,
   "id": "a01cd48b",
   "metadata": {},
   "outputs": [
    {
     "data": {
      "text/html": [
       "<img src=\"img/git4.png\"/>"
      ],
      "text/plain": [
       "<IPython.core.display.Image object>"
      ]
     },
     "execution_count": 30,
     "metadata": {},
     "output_type": "execute_result"
    }
   ],
   "source": [
    "Image(url= \"img/git4.png\")"
   ]
  },
  {
   "cell_type": "markdown",
   "id": "c21ddc67",
   "metadata": {},
   "source": [
    "## Git help"
   ]
  },
  {
   "cell_type": "markdown",
   "id": "35a172a8",
   "metadata": {},
   "source": [
    "If we need help remembering options for a specific command, we can always use ``` git <command> -help```, e.g.\n",
    "\n",
    "```\n",
    " git commit -help\n",
    "\n",
    "```\n",
    "\n",
    "And to list all possible commands we use\n",
    "\n",
    "```\n",
    "\n",
    "git help -all\n",
    "\n",
    "```"
   ]
  },
  {
   "cell_type": "markdown",
   "id": "36a5516d",
   "metadata": {},
   "source": [
    "## Branching and merging"
   ]
  },
  {
   "cell_type": "markdown",
   "id": "e1c5773d",
   "metadata": {},
   "source": [
    "In Git a branch is a new or a separate version of the main repository. A branch branches off at a certain point from the main branch abd from there, the development is <i> basically </i> independent. The branches share history though and are aware of it - which enables subsequent merging."
   ]
  },
  {
   "cell_type": "code",
   "execution_count": 13,
   "id": "06ce3104",
   "metadata": {},
   "outputs": [
    {
     "data": {
      "text/html": [
       "<img src=\"img/git10.png\"/>"
      ],
      "text/plain": [
       "<IPython.core.display.Image object>"
      ]
     },
     "execution_count": 13,
     "metadata": {},
     "output_type": "execute_result"
    }
   ],
   "source": [
    "Image(url= \"img/git10.png\")"
   ]
  },
  {
   "cell_type": "markdown",
   "id": "a32124ed",
   "metadata": {},
   "source": [
    "Git uses this feature excessively. This is facilitated by the fact that the repository is repository is available locally on the computer, and switching back and forth between branches takes only a fraction of a second. \n",
    "\n",
    "Switching from one branch to another is therefore extremely fast, even for large projects. This is why branches are omnipresent in Git. Over time, various models have emerged for the effective\n",
    "use of branches have emerged, such as the following one:\n",
    "\n",
    "\n",
    "This model provides for two basic branches:\n",
    "- ```master``` - the traditional name for the first branch created by Git itself. The master branch represents the official version of the project. Recently, the more more neutral ```main``` is preferred.\n",
    "- ```develop``` - this is the development branch of the project which, when a milestone is reached - is merged back into the master branch.\n",
    "\n",
    "In addition there are so called ```feature branches```, in which a new feature is created and if necessary further branches (release branches, hotfix branches, etc.).\n",
    "\n",
    "\n"
   ]
  },
  {
   "cell_type": "code",
   "execution_count": 14,
   "id": "42ca3578",
   "metadata": {},
   "outputs": [
    {
     "data": {
      "text/html": [
       "<img src=\"img/git11.png\"/>"
      ],
      "text/plain": [
       "<IPython.core.display.Image object>"
      ]
     },
     "execution_count": 14,
     "metadata": {},
     "output_type": "execute_result"
    }
   ],
   "source": [
    "Image(url= \"img/git11.png\")"
   ]
  },
  {
   "cell_type": "markdown",
   "id": "68067061",
   "metadata": {},
   "source": [
    "\n",
    "A repository with several branches could look like this:\n",
    "- Parallel to the master branch, there is the develop branch.\n",
    "- Branching off from the develop branch there are feature branches, here e.g. input_valitationand core_algorithm. Such branches are only created to develop a new feature.\n",
    "- When the feature has been transferred back to the develop branch,\n",
    "feature branches are usually deleted.\n",
    "- alternative_algorithm is an example of an ad-hoc branch, where you quickly try something out. If the idea works, you move the code to the branch from which it was forked. If it doesn't work, the branch is simply deleted.\n",
    "- The release branch contains only released versions.\n",
    "- A hotfix branch becomes necessary when a dangerous bug is found in a released version. The fix, i.e. the code that corrects the error, must be returned to the master as soon as possible and leads to another release. Often it has to be incorporated into the develop branch.\n"
   ]
  },
  {
   "cell_type": "markdown",
   "id": "dc564110",
   "metadata": {},
   "source": [
    "### Commands dealing with branches"
   ]
  },
  {
   "cell_type": "markdown",
   "id": "5a401ef9",
   "metadata": {},
   "source": [
    "| Command   | Purpose    |\n",
    "|-------------:|:-----------|\n",
    "| ``` git branch ``` | lists all branches in the repository|\n",
    "| ``` git branch <branch-name>``` | creates a branch|\n",
    "| ``` git checkout <branch>```  | switches to the specified branch| \n",
    "| ``` git merge <branch> ``` | merges the specified branch into the current branch | \n",
    "| ``` git branch -m old-name new-name ``` | renaming a branch | \n",
    "| ``` git branch -d <branch>``` | deleting a branch | \n"
   ]
  },
  {
   "cell_type": "markdown",
   "id": "46fae91e",
   "metadata": {},
   "source": [
    "In our repo, we are currently in the master branch. We know that also because it says so:"
   ]
  },
  {
   "cell_type": "markdown",
   "id": "9ade8357-5c59-4de8-af0e-d738f33cb852",
   "metadata": {},
   "source": [
    "# Working with our class repository (important!!)"
   ]
  },
  {
   "cell_type": "markdown",
   "id": "87546de7-aa06-4273-9e2f-9f2c8697da1a",
   "metadata": {},
   "source": [
    "In our case, you want to download the **class notebooks** each week from the `main` branch, but at the same time keep your **personal notes** that you work on in your own `notes` branch.\n",
    "\n",
    "We will now learn:\n",
    "- How to merge changes between branches.\n",
    "- How to cherry-pick specific changes (commits) from one branch to another.\n",
    "- When to use merging vs. cherry-picking, based on different scenarios.\n",
    "\n"
   ]
  },
  {
   "cell_type": "markdown",
   "id": "05fd964c-e19a-485e-a491-640d95caf548",
   "metadata": {},
   "source": [
    "## 1. Create a personal branch:"
   ]
  },
  {
   "cell_type": "markdown",
   "id": "9654678b-1619-4931-bc8c-0857ccd975ca",
   "metadata": {},
   "source": [
<<<<<<< HEAD
    "``` git branch notes ```\n"
=======
    "``` git checkout -b my_notes ```\n"
   ]
  },
  {
   "cell_type": "code",
   "execution_count": 5,
   "id": "702b1660-ffb6-4dbe-b637-96a094e9af12",
   "metadata": {},
   "outputs": [
    {
     "data": {
      "text/html": [
       "<img src=\"img/git-branch.png\"/>"
      ],
      "text/plain": [
       "<IPython.core.display.Image object>"
      ]
     },
     "execution_count": 5,
     "metadata": {},
     "output_type": "execute_result"
    }
   ],
   "source": [
    "Image(url= \"img/git-branch.png\")"
>>>>>>> d97467d8f47b5b4a5150bbb412025942f32a6451
   ]
  },
  {
   "cell_type": "markdown",
   "id": "d38423a9-4677-47d1-abd5-fc26c9a31c72",
   "metadata": {},
   "source": [
    "This creates a new branch called notes, where you can freely make changes without affecting the main branch.\n"
   ]
  },
  {
   "cell_type": "code",
   "execution_count": 4,
   "id": "90e2f46a-e7ef-40cc-9a94-757b956e5fb5",
   "metadata": {},
   "outputs": [
    {
     "data": {
      "text/html": [
       "<img src=\"img/git-branches.png\"/>"
      ],
      "text/plain": [
       "<IPython.core.display.Image object>"
      ]
     },
     "execution_count": 4,
     "metadata": {},
     "output_type": "execute_result"
    }
   ],
   "source": [
    "Image(url= \"img/git-branches.png\")"
   ]
  },
  {
   "cell_type": "markdown",
   "id": "1ef4566f-19bb-4ce8-b39c-4671cf9f26f3",
   "metadata": {},
   "source": [
    "## 2. Working in the Personal Branch\n"
   ]
  },
  {
   "cell_type": "markdown",
   "id": "e2bc8d60-653e-402f-a32c-b4ebb6164523",
   "metadata": {},
   "source": [
    "During the session (or after) you can work and take your notes in the branch you've created. The notebooks will be saved here and you don't need to worry about overwriting my changes. If you want to see the "
   ]
  },
  {
   "cell_type": "markdown",
   "id": "b348e1fb-e964-4675-9bf9-e090cda86cf3",
   "metadata": {},
   "source": [
    "### How to save changes in the personal branch : git staging environment\n"
   ]
  },
  {
   "cell_type": "markdown",
   "id": "8bbf63de-96cc-4eed-a6ea-71347df12837",
   "metadata": {},
   "source": [
    "One of the core functions of Git is the concepts of the <b>Staging Environment</b>, and the <b>Commit</b>.\n",
    "\n",
    "As you are working, you may be adding, editing and removing files. But whenever you hit a milestone or finish a part of the work, you should add the files to a Staging Environment.\n",
    "\n"
   ]
  },
  {
   "cell_type": "markdown",
   "id": "e122e571-35da-4c0f-9884-c870789f24c9",
   "metadata": {},
   "source": [
    "\n",
    "```git add (filename)```\n",
    "\n",
    "or\n",
    "\n",
    "\n",
    "```git add --all```"
   ]
  },
  {
   "cell_type": "code",
   "execution_count": 5,
   "id": "70bc64b0-a28b-438d-a332-0b73dcc64f5f",
   "metadata": {},
   "outputs": [
    {
     "data": {
      "text/html": [
       "<img src=\"img/git-branches1.png\"/>"
      ],
      "text/plain": [
       "<IPython.core.display.Image object>"
      ]
     },
     "execution_count": 5,
     "metadata": {},
     "output_type": "execute_result"
    }
   ],
   "source": [
    "Image(url= \"img/git-branches1.png\")"
   ]
  },
  {
   "cell_type": "markdown",
   "id": "582ff586-98c2-4e42-9e56-0d61fc817419",
   "metadata": {},
   "source": [
    "In this inage, we've made changes to the notes branch and git is telling us to add the changes to the staging environment and commit them."
   ]
  },
  {
   "cell_type": "markdown",
   "id": "f01bff35-c4e0-40a0-8bde-b5775db2cb00",
   "metadata": {},
   "source": [
    "### Git commit"
   ]
  },
  {
   "cell_type": "markdown",
   "id": "5b5f01a0-906b-44ed-8cc5-0ee3213bec6e",
   "metadata": {},
   "source": [
    "Since we have finished our work, let's commit it.\n",
    "\n",
    "Adding commits keep track of our progress and changes as we work. Git considers each commit change point or \"save point\". It is a point in the project you can go back to if you find a bug, or want to make a change.\n",
    "\n",
    "When we commit, we should always include a message explaining what the newly commited change was.\n",
    "\n",
    "By adding clear messages to each commit, it is easy for yourself (and others) to see what has changed and when.\n",
    "\n"
   ]
  },
  {
   "cell_type": "markdown",
   "id": "93704e09-b132-41a2-94a0-038e903cb75f",
   "metadata": {},
   "source": [
    "```git commit -m \"First release of my notes\" ```"
   ]
  },
  {
   "cell_type": "markdown",
   "id": "a229b4e6-0da0-42e2-94b8-a06b88db9030",
   "metadata": {},
   "source": [
    "where ```commit``` performs the commit and ```-m``` stands for \"message\". This should give us a result looking like:"
   ]
  },
  {
   "cell_type": "code",
   "execution_count": 8,
   "id": "d87846dc-9dce-485f-b070-f3d554d06b2e",
   "metadata": {},
   "outputs": [
    {
     "data": {
      "text/html": [
       "<img src=\"img/git-branches2.png\"/>"
      ],
      "text/plain": [
       "<IPython.core.display.Image object>"
      ]
     },
     "execution_count": 8,
     "metadata": {},
     "output_type": "execute_result"
    }
   ],
   "source": [
    "Image(url= \"img/git-branches2.png\")"
   ]
  },
  {
   "cell_type": "markdown",
   "id": "4f0c5229-75ef-4029-b571-c72170b9bc47",
   "metadata": {},
   "source": [
    "## 3. Pulling Updates from the class repo (Before Each Class)\n",
    "\n",
    "Before every class, you should switch back to the main branch to pull the latest updates from the course repository:\n",
    "- ```git checkout main```\n",
    "- ```git pull origin main```\n",
    "\n",
    "\n",
    "This will bring in all the new content or updates from the instructor.\n",
    "\n"
   ]
  },
  {
   "cell_type": "markdown",
   "id": "303c99cc-c9e8-4918-af17-8f21b6cb3510",
   "metadata": {},
   "source": [
    "## 4. Merging the updates into the personal branch\n",
    "After pulling the latest updates, you can merge those updates into their personal branch without causing conflicts in their own notes:\n",
    "\n",
    "- ```git checkout notes```\n",
    "- ```git merge main```\n",
    "\n",
    "\n",
    "Merging is the most common way to integrate changes from one branch to another in Git. \n",
    "When you merge, Git combines all the changes from one branch into the current branch. \n",
    "\n",
    "This means that if you have made changes to the same files (notebooks) in both branches, you WILL need to **resolve conflicts** before Git can complete the merge.\n",
    "\n"
   ]
  },
  {
   "cell_type": "markdown",
   "id": "4a8afe31-fe82-450e-bfc9-78c65ecc9b97",
   "metadata": {},
   "source": [
    "###  Workflow:\n",
    "\n",
    "1. **Switch to your `notes` branch** where your personal changes are stored:\n",
    "   ```bash\n",
    "   git checkout notes\n",
    "   ```\n",
    "\n",
    "2. **Merge changes from the `main` branch**, where the new class notebooks are located:\n",
    "   ```bash\n",
    "   git merge main\n",
    "   ```"
   ]
  },
  {
   "cell_type": "code",
   "execution_count": 13,
   "id": "06950718-395a-451f-9f91-a47f341a3bb1",
   "metadata": {},
   "outputs": [
    {
     "data": {
      "text/html": [
       "<img src=\"img/merge.png\"/>"
      ],
      "text/plain": [
       "<IPython.core.display.Image object>"
      ]
     },
     "execution_count": 13,
     "metadata": {},
     "output_type": "execute_result"
    }
   ],
   "source": [
    "Image(url= \"img/merge.png\")"
   ]
  },
  {
   "cell_type": "markdown",
   "id": "5204d8d7-c715-4d0a-9610-55f99eebfb6b",
   "metadata": {},
   "source": [
    "\n",
    "This will bring in the new notebooks from `main` to your `notes` branch. If there are any conflicts, Git will prompt you to resolve them.\n",
    "\n",
    "### What Happens if There's a Conflict?\n",
    "\n",
    "If both your `notes` branch and the `main` branch have changes to the same notebook file, Git will pause the merge and notify you of a conflict. You will then need to manually resolve the conflict in the affected notebook.\n",
    "\n",
    "- You will see conflict markers in the notebook file (something like `<<<<<<`, `======`, `>>>>>>`).\n",
    "- Open the notebook in a text editor or Jupyter itself, and decide whether to keep your version, the incoming version, or combine both.\n",
    "- guides for conflict resolving and how it looks like:\n",
    "    - https://githowto.com/resolving_conflicts\n",
    "    - https://docs.github.com/en/pull-requests/collaborating-with-pull-requests/addressing-merge-conflicts/resolving-a-merge-conflict-using-the-command-line\n",
    "  - <b>MUST READ IF YOU HAVE A CONFLICT</b>\n",
    "    \n",
    "\n",
    "\n",
    "### using GitHub desktop (https://github.com/apps/desktop) instead of command line\n",
    "    - https://www.youtube.com/watch?v=MIVW0sijSjY&ab_channel=OhioFi\n",
    "    \n",
    "### Finalizing the Merge:\n",
    "Once the conflicts are resolved, you can finalize the merge with:\n",
    "```bash\n",
    "git commit -m \"Resolved merge conflicts and merged changes\"\n",
    "```\n"
   ]
  },
  {
   "cell_type": "markdown",
   "id": "40a43dc3-412c-4cd4-b69e-34d26cb6b908",
   "metadata": {},
   "source": [
    "# 5. Cherry-picking"
   ]
  },
  {
   "cell_type": "markdown",
   "id": "8f59d9c5-87c5-41eb-bda5-1319411bdbf0",
   "metadata": {},
   "source": [
    "\n",
    "Cherry-picking allows you to apply specific commits from one branch to another. Instead of merging all changes, you can select specific updates (e.g., new notebooks) to apply.\n",
    "\n",
    "### Example Workflow:\n",
    "\n",
    "1. **Switch to the target branch** (e.g., your `notes` branch):\n",
    "   ```bash\n",
    "   git checkout notes\n",
    "   ```\n",
    "\n",
    "2. **Find the commit ID** of the change you want to cherry-pick (for example, the commit that added the new notebook):\n",
    "   ```bash\n",
    "   git log main\n",
    "   ```\n",
    "   Look through the log for the commit that added the notebook and copy its commit ID.\n",
    "\n",
    "3. **Apply the commit** to your current branch:\n",
    "   ```bash\n",
    "   git cherry-pick <commit_id>\n",
    "   ```\n",
    "\n",
    "4. If there are conflicts, resolve them just like in a merge. Once resolved, finalize the cherry-pick:\n",
    "   ```bash\n",
    "   git commit\n",
    "   ```\n",
    "\n",
    "\n",
    "-very good explanation- https://www.youtube.com/watch?v=i657Bg_HAWI&ab_channel=TheModernCoder\n",
    "\n",
    "### Pros and Cons of Cherry-Picking:\n",
    "- **Pros**: You can select specific changes without bringing in all updates from the other branch.\n",
    "- **Cons**: Can be more time-consuming if you need multiple changes, as you need to cherry-pick each commit individually.\n"
   ]
  },
  {
   "cell_type": "markdown",
   "id": "a84ece72-d8bf-4a6e-a6c4-2bdc85b36a62",
   "metadata": {},
   "source": [
    "##  When to Use Merging vs. Cherry-Picking?"
   ]
  },
  {
   "cell_type": "markdown",
   "id": "f26300c5-49c6-47a6-b0d1-efec5c50279f",
   "metadata": {},
   "source": [
    "\n",
    "- **Use Merging** when you want to integrate all changes from the `main` branch (e.g., all class notebooks) into your branch and you don't mind resolving conflicts.\n",
    "- **Use Cherry-Picking** when you want to bring in only specific changes (e.g., a particular notebook) without integrating everything from the `main` branch.\n",
    "\n",
    "### Summary:\n",
    "- **Merging**: Best when you need to integrate everything from a branch, such as downloading all class notebooks.\n",
    "- **Cherry-Picking**: Best for selecting specific updates without pulling everything else.\n"
   ]
  },
  {
   "cell_type": "markdown",
   "id": "53fdb78c-a76c-472e-a2b7-a5d874eb18b2",
   "metadata": {},
   "source": [
    "# A more comprehensive guide\n",
    "\n",
    "If you have any questions in the future about Git and Github or run into issues, please first consult these more extensive guides:\n",
    "* https://github.com/lucijakrusic/programming2SS23/blob/main/intro_selected_topics/Git%20%26%20GitHub.ipynb\n",
    "* https://www.w3schools.com/git/git_intro.asp?remote=github"
   ]
  },
  {
   "cell_type": "code",
   "execution_count": null,
   "id": "45d317bd-8b5f-4a0c-bc6c-9f0203ad09d6",
   "metadata": {},
   "outputs": [],
   "source": []
  }
 ],
 "metadata": {
  "kernelspec": {
   "display_name": "Python 3 (ipykernel)",
   "language": "python",
   "name": "python3"
  },
  "language_info": {
   "codemirror_mode": {
    "name": "ipython",
    "version": 3
   },
   "file_extension": ".py",
   "mimetype": "text/x-python",
   "name": "python",
   "nbconvert_exporter": "python",
   "pygments_lexer": "ipython3",
   "version": "3.9.13"
  }
 },
 "nbformat": 4,
 "nbformat_minor": 5
}
